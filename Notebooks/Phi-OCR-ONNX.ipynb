{
 "cells": [
  {
   "cell_type": "code",
   "execution_count": null,
   "metadata": {},
   "outputs": [],
   "source": [
    "import argparse\n",
    "import os\n",
    "import glob\n",
    "import time\n",
    "from pathlib import Path\n",
    "import onnxruntime_genai as og"
   ]
  },
  {
   "cell_type": "code",
   "execution_count": null,
   "metadata": {},
   "outputs": [],
   "source": [
    "# Download model from HF\n",
    "model_path = \"gpu/gpu-int4-rtn-block-32\""
   ]
  },
  {
   "cell_type": "code",
   "execution_count": 8,
   "metadata": {},
   "outputs": [],
   "source": [
    "execution_provider = 'cpu'\n",
    "image_paths = glob.glob(\"../BarCodeTMNA/TestingOCR/*.JPG\")\n",
    "prompt = \"Enter the path to the image you want to test: \""
   ]
  },
  {
   "cell_type": "code",
   "execution_count": 10,
   "metadata": {},
   "outputs": [
    {
     "name": "stdout",
     "output_type": "stream",
     "text": [
      "Model loaded\n"
     ]
    }
   ],
   "source": [
    "config = og.Config(model_path)\n",
    "config.clear_providers()\n",
    "if execution_provider != \"cpu\":\n",
    "    print(f\"Setting model to {execution_provider}...\")\n",
    "    config.append_provider(execution_provider)\n",
    "model = og.Model(config)\n",
    "print(\"Model loaded\")"
   ]
  },
  {
   "cell_type": "code",
   "execution_count": 11,
   "metadata": {},
   "outputs": [],
   "source": [
    "processor = model.create_multimodal_processor()\n",
    "tokenizer_stream = processor.create_stream()"
   ]
  },
  {
   "cell_type": "code",
   "execution_count": 23,
   "metadata": {},
   "outputs": [],
   "source": [
    "image_path = image_paths[0]"
   ]
  },
  {
   "cell_type": "code",
   "execution_count": 24,
   "metadata": {},
   "outputs": [
    {
     "name": "stdout",
     "output_type": "stream",
     "text": [
      "Using image: ../BarCodeTMNA/TestingOCR\\d170_d3549_snp_serial_number_photo.jpg\n"
     ]
    }
   ],
   "source": [
    "# Load the image\n",
    "if not os.path.exists(image_path):\n",
    "    raise FileNotFoundError(f\"Image file not found: {image_path}\")\n",
    "print(f\"Using image: {image_path}\")\n",
    "images = og.Images.open(image_path)"
   ]
  },
  {
   "cell_type": "code",
   "execution_count": 26,
   "metadata": {},
   "outputs": [],
   "source": [
    "prompt_text = \"What is shown in this image?\"  # Specify your prompt here"
   ]
  },
  {
   "cell_type": "code",
   "execution_count": 27,
   "metadata": {},
   "outputs": [
    {
     "name": "stdout",
     "output_type": "stream",
     "text": [
      "Processing images and prompt...\n"
     ]
    }
   ],
   "source": [
    "# Construct the prompt with the image tag\n",
    "prompt = f\"<|user|>\\n<|image_1|>\\n{prompt_text}<|end|>\\n<|assistant|>\\n\"\n",
    "print(\"Processing images and prompt...\")"
   ]
  },
  {
   "cell_type": "code",
   "execution_count": 28,
   "metadata": {},
   "outputs": [],
   "source": [
    "inputs = processor(prompt, images=images)"
   ]
  },
  {
   "cell_type": "code",
   "execution_count": 32,
   "metadata": {},
   "outputs": [
    {
     "name": "stdout",
     "output_type": "stream",
     "text": [
      "Generating response...\n",
      "The image shows a close-up of a barcode with the text 'X RND0271282' visible on it. The barcode is partially occluded, and the rest of the text is not clear.\n",
      "Total Time: 252.52 seconds\n"
     ]
    }
   ],
   "source": [
    "# Generate a response\n",
    "print(\"Generating response...\")\n",
    "params = og.GeneratorParams(model)\n",
    "params.set_inputs(inputs)\n",
    "params.set_search_options(max_length=7680)\n",
    "\n",
    "generator = og.Generator(model, params)\n",
    "start_time = time.time()\n",
    "\n",
    "# Generate the response token by token\n",
    "while not generator.is_done():\n",
    "    generator.compute_logits()\n",
    "    generator.generate_next_token()\n",
    "    new_token = generator.get_next_tokens()[0]\n",
    "    print(tokenizer_stream.decode(new_token), end=\"\", flush=True)\n",
    "\n",
    "print()\n",
    "total_run_time = time.time() - start_time\n",
    "print(f\"Total Time: {total_run_time:.2f} seconds\")"
   ]
  },
  {
   "cell_type": "code",
   "execution_count": null,
   "metadata": {},
   "outputs": [],
   "source": []
  }
 ],
 "metadata": {
  "kernelspec": {
   "display_name": "env",
   "language": "python",
   "name": "python3"
  },
  "language_info": {
   "codemirror_mode": {
    "name": "ipython",
    "version": 3
   },
   "file_extension": ".py",
   "mimetype": "text/x-python",
   "name": "python",
   "nbconvert_exporter": "python",
   "pygments_lexer": "ipython3",
   "version": "3.12.4"
  }
 },
 "nbformat": 4,
 "nbformat_minor": 2
}
